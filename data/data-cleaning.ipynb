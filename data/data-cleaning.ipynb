{
 "cells": [
  {
   "cell_type": "code",
   "execution_count": 12,
   "metadata": {},
   "outputs": [],
   "source": [
    "import pandas as pd\n",
    "\n",
    "# Spotify\n",
    "df_spotify = pd.read_csv('/Users/archanamucharla/Downloads/spotify_songs.csv')\n",
    "subset_spotify = df_spotify[['track_name']]\n",
    "subset_spotify = subset_spotify.sample(n=100)\n",
    "subset_spotify.to_csv('/Users/archanamucharla/Downloads/1_spotify.csv', index=False)\n",
    "\n",
    "# Movie\n",
    "df_movie = pd.read_csv('/Users/archanamucharla/Downloads/movie_profit.csv')\n",
    "subset_movie = df_movie[['movie']]\n",
    "subset_movie = subset_movie.sample(n=1500)\n",
    "subset_movie.to_csv('/Users/archanamucharla/Downloads/2_movie.csv', index=False)\n",
    "\n",
    "# Starbucks\n",
    "df_starbucks = pd.read_csv('/Users/archanamucharla/Downloads/reviews_data.csv')\n",
    "subset_starbucks = df_starbucks[['Review']]\n",
    "subset_starbucks = subset_starbucks.sample(n=850)\n",
    "subset_starbucks.to_csv('/Users/archanamucharla/Downloads/3_starbucks.csv', index=False)\n",
    "\n",
    "# Makeup\n",
    "df_makeup = pd.read_csv('/Users/archanamucharla/Downloads/output.csv')\n",
    "subset_makeup = df_makeup[['description']]\n",
    "subset_makeup.to_csv('/Users/archanamucharla/Downloads/4_makeup.csv', index=False)\n",
    "\n",
    "# Amazon\n",
    "df_amazon = pd.read_csv('/Users/archanamucharla/Downloads/amz_uk_processed_data.csv')\n",
    "subset_amazon = df_amazon[['title']]\n",
    "subset_amazon = subset_amazon.sample(n=10000)\n",
    "subset_amazon.to_csv('/Users/archanamucharla/Downloads/5_amazon.csv', index=False)\n",
    "\n"
   ]
  }
 ],
 "metadata": {
  "kernelspec": {
   "display_name": "Python 3",
   "language": "python",
   "name": "python3"
  },
  "language_info": {
   "codemirror_mode": {
    "name": "ipython",
    "version": 3
   },
   "file_extension": ".py",
   "mimetype": "text/x-python",
   "name": "python",
   "nbconvert_exporter": "python",
   "pygments_lexer": "ipython3",
   "version": "3.11.1 (v3.11.1:a7a450f84a, Dec  6 2022, 15:24:06) [Clang 13.0.0 (clang-1300.0.29.30)]"
  },
  "orig_nbformat": 4,
  "vscode": {
   "interpreter": {
    "hash": "aee8b7b246df8f9039afb4144a1f6fd8d2ca17a180786b69acc140d282b71a49"
   }
  }
 },
 "nbformat": 4,
 "nbformat_minor": 2
}
